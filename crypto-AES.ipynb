{
 "cells": [
  {
   "cell_type": "code",
   "execution_count": 90,
   "id": "fba2d344",
   "metadata": {
    "scrolled": true
   },
   "outputs": [],
   "source": [
    "from os import urandom\n",
    "from Crypto.Cipher import AES\n",
    "from Crypto.Util.Padding import pad"
   ]
  },
  {
   "cell_type": "code",
   "execution_count": 91,
   "id": "c1600992",
   "metadata": {},
   "outputs": [
    {
     "name": "stdout",
     "output_type": "stream",
     "text": [
      "b'\\xd4\\x93\\xad\\xdeB\\xd2\\xa0~\\x9b\\x1c-A\\xd6\\x9e\\xedl'\n",
      "b'\\xfe\\xaalr\\x12\\x9b\\x16\\x04W8\\x8a\\xfd\\xd3\\t\\xac\\x8f'\n"
     ]
    }
   ],
   "source": [
    "secret_key = urandom(16)\n",
    "print(secret_key)\n",
    "\n",
    "iv = urandom(16)\n",
    "print(iv)"
   ]
  },
  {
   "cell_type": "code",
   "execution_count": 92,
   "id": "2a631399",
   "metadata": {},
   "outputs": [],
   "source": [
    "encr_obj = AES.new(secret_key, AES.MODE_CBC, iv)"
   ]
  },
  {
   "cell_type": "code",
   "execution_count": 93,
   "id": "ad7c03e2",
   "metadata": {},
   "outputs": [],
   "source": [
    "# obj = AES.new(secret_key.encode(\"utf8\"), AES.MODE_CBC, iv.encode(\"utf8\"))"
   ]
  },
  {
   "cell_type": "code",
   "execution_count": 94,
   "id": "54d9f1bb",
   "metadata": {},
   "outputs": [
    {
     "name": "stdout",
     "output_type": "stream",
     "text": [
      "Original message is:  password is triplenine999\n"
     ]
    }
   ],
   "source": [
    "message = 'password is triplenine999'\n",
    "print('Original message is: ', message)"
   ]
  },
  {
   "cell_type": "code",
   "execution_count": 95,
   "id": "048ee4d2",
   "metadata": {},
   "outputs": [],
   "source": [
    "paddedmessage=pad(message.encode(), 16, style='pkcs7')"
   ]
  },
  {
   "cell_type": "code",
   "execution_count": 96,
   "id": "b02aa8da",
   "metadata": {
    "scrolled": true
   },
   "outputs": [
    {
     "name": "stdout",
     "output_type": "stream",
     "text": [
      "The encrypted text:  b'\\xf3\\x0fUv\\x87\\xe6\\xdc\\x80``\\xe6\\x8e!\\t\\xb7<f\\xa6\\xb7\\x07\\xf6\\xee>\\x98\\xa64\\x94\\x00\\xaf\\xe5#\\xb1'\n"
     ]
    }
   ],
   "source": [
    "encrypted_text = encr_obj.encrypt(paddedmessage)\n",
    "print('The encrypted text: ', encrypted_text)"
   ]
  },
  {
   "cell_type": "code",
   "execution_count": 97,
   "id": "228d1675",
   "metadata": {},
   "outputs": [
    {
     "name": "stdout",
     "output_type": "stream",
     "text": [
      "The decrypted text:  password is triplenine999\u0007\u0007\u0007\u0007\u0007\u0007\u0007\n"
     ]
    }
   ],
   "source": [
    "decr_obj = AES.new(secret_key, AES.MODE_CBC, iv)\n",
    "decrypted_text = decr_obj.decrypt(encrypted_text)\n",
    "print('The decrypted text: ', decrypted_text.decode())"
   ]
  },
  {
   "cell_type": "code",
   "execution_count": null,
   "id": "ad5d731d",
   "metadata": {},
   "outputs": [],
   "source": []
  }
 ],
 "metadata": {
  "kernelspec": {
   "display_name": "Python 3",
   "language": "python",
   "name": "python3"
  },
  "language_info": {
   "codemirror_mode": {
    "name": "ipython",
    "version": 3
   },
   "file_extension": ".py",
   "mimetype": "text/x-python",
   "name": "python",
   "nbconvert_exporter": "python",
   "pygments_lexer": "ipython3",
   "version": "3.8.8"
  }
 },
 "nbformat": 4,
 "nbformat_minor": 5
}
